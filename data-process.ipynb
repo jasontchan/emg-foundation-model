{
 "cells": [
  {
   "cell_type": "code",
   "execution_count": 4,
   "metadata": {},
   "outputs": [],
   "source": [
    "from pathlib import Path\n",
    "DATA_DOWNLOAD_DIR = Path.home()"
   ]
  },
  {
   "cell_type": "code",
   "execution_count": 5,
   "metadata": {},
   "outputs": [
    {
     "data": {
      "text/html": [
       "<div>\n",
       "<style scoped>\n",
       "    .dataframe tbody tr th:only-of-type {\n",
       "        vertical-align: middle;\n",
       "    }\n",
       "\n",
       "    .dataframe tbody tr th {\n",
       "        vertical-align: top;\n",
       "    }\n",
       "\n",
       "    .dataframe thead th {\n",
       "        text-align: right;\n",
       "    }\n",
       "</style>\n",
       "<table border=\"1\" class=\"dataframe\">\n",
       "  <thead>\n",
       "    <tr style=\"text-align: right;\">\n",
       "      <th></th>\n",
       "      <th>session</th>\n",
       "      <th>user</th>\n",
       "      <th>stage</th>\n",
       "      <th>start</th>\n",
       "      <th>end</th>\n",
       "      <th>side</th>\n",
       "      <th>filename</th>\n",
       "      <th>moving_hand</th>\n",
       "      <th>held_out_user</th>\n",
       "      <th>held_out_stage</th>\n",
       "      <th>split</th>\n",
       "      <th>generalization</th>\n",
       "    </tr>\n",
       "  </thead>\n",
       "  <tbody>\n",
       "    <tr>\n",
       "      <th>0</th>\n",
       "      <td>2022-04-07-1649318400-8125c-cv-emg-pose-train@2</td>\n",
       "      <td>29ddab35d7</td>\n",
       "      <td>ThumbsUpDownThumbRotationsCWCCWP</td>\n",
       "      <td>1.649400e+09</td>\n",
       "      <td>1.649400e+09</td>\n",
       "      <td>left</td>\n",
       "      <td>2022-04-07-1649318400-8125c-cv-emg-pose-train@...</td>\n",
       "      <td>both</td>\n",
       "      <td>True</td>\n",
       "      <td>False</td>\n",
       "      <td>val</td>\n",
       "      <td>user</td>\n",
       "    </tr>\n",
       "    <tr>\n",
       "      <th>1</th>\n",
       "      <td>2022-04-07-1649318400-8125c-cv-emg-pose-train@2</td>\n",
       "      <td>29ddab35d7</td>\n",
       "      <td>ThumbsUpDownThumbRotationsCWCCWP</td>\n",
       "      <td>1.649400e+09</td>\n",
       "      <td>1.649400e+09</td>\n",
       "      <td>right</td>\n",
       "      <td>2022-04-07-1649318400-8125c-cv-emg-pose-train@...</td>\n",
       "      <td>both</td>\n",
       "      <td>True</td>\n",
       "      <td>False</td>\n",
       "      <td>val</td>\n",
       "      <td>user</td>\n",
       "    </tr>\n",
       "    <tr>\n",
       "      <th>2</th>\n",
       "      <td>2022-04-07-1649318400-8125c-cv-emg-pose-train@2</td>\n",
       "      <td>29ddab35d7</td>\n",
       "      <td>HandClawGraspFlicks</td>\n",
       "      <td>1.649401e+09</td>\n",
       "      <td>1.649401e+09</td>\n",
       "      <td>left</td>\n",
       "      <td>2022-04-07-1649318400-8125c-cv-emg-pose-train@...</td>\n",
       "      <td>both</td>\n",
       "      <td>True</td>\n",
       "      <td>False</td>\n",
       "      <td>val</td>\n",
       "      <td>user</td>\n",
       "    </tr>\n",
       "    <tr>\n",
       "      <th>3</th>\n",
       "      <td>2022-04-07-1649318400-8125c-cv-emg-pose-train@2</td>\n",
       "      <td>29ddab35d7</td>\n",
       "      <td>HandClawGraspFlicks</td>\n",
       "      <td>1.649401e+09</td>\n",
       "      <td>1.649401e+09</td>\n",
       "      <td>right</td>\n",
       "      <td>2022-04-07-1649318400-8125c-cv-emg-pose-train@...</td>\n",
       "      <td>both</td>\n",
       "      <td>True</td>\n",
       "      <td>False</td>\n",
       "      <td>val</td>\n",
       "      <td>user</td>\n",
       "    </tr>\n",
       "    <tr>\n",
       "      <th>4</th>\n",
       "      <td>2022-04-07-1649318400-8125c-cv-emg-pose-train@2</td>\n",
       "      <td>29ddab35d7</td>\n",
       "      <td>ShakaVulcanPeace</td>\n",
       "      <td>1.649401e+09</td>\n",
       "      <td>1.649401e+09</td>\n",
       "      <td>left</td>\n",
       "      <td>2022-04-07-1649318400-8125c-cv-emg-pose-train@...</td>\n",
       "      <td>both</td>\n",
       "      <td>True</td>\n",
       "      <td>True</td>\n",
       "      <td>val</td>\n",
       "      <td>user_stage</td>\n",
       "    </tr>\n",
       "  </tbody>\n",
       "</table>\n",
       "</div>"
      ],
      "text/plain": [
       "                                           session        user  \\\n",
       "0  2022-04-07-1649318400-8125c-cv-emg-pose-train@2  29ddab35d7   \n",
       "1  2022-04-07-1649318400-8125c-cv-emg-pose-train@2  29ddab35d7   \n",
       "2  2022-04-07-1649318400-8125c-cv-emg-pose-train@2  29ddab35d7   \n",
       "3  2022-04-07-1649318400-8125c-cv-emg-pose-train@2  29ddab35d7   \n",
       "4  2022-04-07-1649318400-8125c-cv-emg-pose-train@2  29ddab35d7   \n",
       "\n",
       "                              stage         start           end   side  \\\n",
       "0  ThumbsUpDownThumbRotationsCWCCWP  1.649400e+09  1.649400e+09   left   \n",
       "1  ThumbsUpDownThumbRotationsCWCCWP  1.649400e+09  1.649400e+09  right   \n",
       "2               HandClawGraspFlicks  1.649401e+09  1.649401e+09   left   \n",
       "3               HandClawGraspFlicks  1.649401e+09  1.649401e+09  right   \n",
       "4                  ShakaVulcanPeace  1.649401e+09  1.649401e+09   left   \n",
       "\n",
       "                                            filename moving_hand  \\\n",
       "0  2022-04-07-1649318400-8125c-cv-emg-pose-train@...        both   \n",
       "1  2022-04-07-1649318400-8125c-cv-emg-pose-train@...        both   \n",
       "2  2022-04-07-1649318400-8125c-cv-emg-pose-train@...        both   \n",
       "3  2022-04-07-1649318400-8125c-cv-emg-pose-train@...        both   \n",
       "4  2022-04-07-1649318400-8125c-cv-emg-pose-train@...        both   \n",
       "\n",
       "   held_out_user  held_out_stage split generalization  \n",
       "0           True           False   val           user  \n",
       "1           True           False   val           user  \n",
       "2           True           False   val           user  \n",
       "3           True           False   val           user  \n",
       "4           True            True   val     user_stage  "
      ]
     },
     "execution_count": 5,
     "metadata": {},
     "output_type": "execute_result"
    }
   ],
   "source": [
    "import glob\n",
    "import os\n",
    "import pandas as pd\n",
    "from emg2pose.data import Emg2PoseSessionData\n",
    "import numpy as np\n",
    "from scipy import stats\n",
    "from scipy.signal import find_peaks\n",
    "import pickle\n",
    "import matplotlib.pyplot as plt\n",
    "stages = sorted(glob.glob(os.path.join(DATA_DOWNLOAD_DIR, \"emg2pose_dataset_mini/*.hdf5\")))\n",
    "\n",
    "stage = stages[15]\n",
    "data = Emg2PoseSessionData(hdf5_path=stage)\n",
    "\n",
    "\n",
    "metadata_df = pd.read_csv(DATA_DOWNLOAD_DIR / \"emg2pose_dataset_mini/metadata.csv\")\n",
    "metadata_df.head(5)"
   ]
  },
  {
   "cell_type": "code",
   "execution_count": 6,
   "metadata": {},
   "outputs": [
    {
     "data": {
      "text/plain": [
       "[<matplotlib.lines.Line2D at 0x7f378cb640a0>]"
      ]
     },
     "execution_count": 6,
     "metadata": {},
     "output_type": "execute_result"
    },
    {
     "data": {
      "image/png": "[encoded data removed]",
      "text/plain": [
       "<Figure size 640x480 with 1 Axes>"
      ]
     },
     "metadata": {},
     "output_type": "display_data"
    }
   ],
   "source": [
    "#for one\n",
    "data = Emg2PoseSessionData(hdf5_path=stage)\n",
    "channel = data['emg'].T[4]\n",
    "channel = np.abs(channel)\n",
    "channel = stats.zscore(channel)\n",
    "#channel = channel[1500:3000]\n",
    "plt.plot(channel)\n",
    "peaks, _ = find_peaks(channel, prominence=1.5, distance=50)\n",
    "plt.plot(peaks, channel[peaks], \"x\")"
   ]
  },
  {
   "cell_type": "code",
   "execution_count": null,
   "metadata": {},
   "outputs": [
    {
     "name": "stdout",
     "output_type": "stream",
     "text": [
      "HandClawGraspFlicks\n",
      "(16, 119266)\n",
      "HandClawGraspFlicks\n",
      "(16, 119266)\n",
      "ShakaVulcanPeace\n",
      "(16, 117131)\n",
      "ShakaVulcanPeace\n",
      "(16, 117131)\n"
     ]
    },
    {
     "ename": "KeyboardInterrupt",
     "evalue": "",
     "output_type": "error",
     "traceback": [
      "\u001b[0;31m---------------------------------------------------------------------------\u001b[0m",
      "\u001b[0;31mKeyboardInterrupt\u001b[0m                         Traceback (most recent call last)",
      "Cell \u001b[0;32mIn[7], line 17\u001b[0m\n\u001b[1;32m     14\u001b[0m peaks, properties \u001b[38;5;241m=\u001b[39m find_peaks(channel, prominence\u001b[38;5;241m=\u001b[39m\u001b[38;5;241m1.5\u001b[39m, distance\u001b[38;5;241m=\u001b[39m\u001b[38;5;241m50\u001b[39m)\n\u001b[1;32m     15\u001b[0m \u001b[38;5;28;01mfor\u001b[39;00m i, peak \u001b[38;5;129;01min\u001b[39;00m \u001b[38;5;28menumerate\u001b[39m(peaks):\n\u001b[1;32m     16\u001b[0m     duration \u001b[38;5;241m=\u001b[39m (\n\u001b[0;32m---> 17\u001b[0m             \u001b[43mdata\u001b[49m\u001b[38;5;241;43m.\u001b[39;49m\u001b[38;5;21;43m__getitem__\u001b[39;49m\u001b[43m(\u001b[49m\u001b[43mproperties\u001b[49m\u001b[43m[\u001b[49m\u001b[38;5;124;43m\"\u001b[39;49m\u001b[38;5;124;43mright_bases\u001b[39;49m\u001b[38;5;124;43m\"\u001b[39;49m\u001b[43m]\u001b[49m\u001b[43m[\u001b[49m\u001b[43mi\u001b[49m\u001b[43m]\u001b[49m\u001b[43m)\u001b[49m[\u001b[38;5;241m0\u001b[39m]\n\u001b[1;32m     18\u001b[0m             \u001b[38;5;241m-\u001b[39m data\u001b[38;5;241m.\u001b[39m\u001b[38;5;21m__getitem__\u001b[39m(properties[\u001b[38;5;124m\"\u001b[39m\u001b[38;5;124mleft_bases\u001b[39m\u001b[38;5;124m\"\u001b[39m][i])[\u001b[38;5;241m0\u001b[39m]\n\u001b[1;32m     19\u001b[0m         )\n\u001b[1;32m     20\u001b[0m     time_occur \u001b[38;5;241m=\u001b[39m data\u001b[38;5;241m.\u001b[39m\u001b[38;5;21m__getitem__\u001b[39m(peak)[\u001b[38;5;241m0\u001b[39m] \u001b[38;5;241m-\u001b[39m start_time\n\u001b[1;32m     21\u001b[0m     spike_token \u001b[38;5;241m=\u001b[39m {\n\u001b[1;32m     22\u001b[0m         \u001b[38;5;124m\"\u001b[39m\u001b[38;5;124msession\u001b[39m\u001b[38;5;124m\"\u001b[39m: session,\n\u001b[1;32m     23\u001b[0m         \u001b[38;5;124m\"\u001b[39m\u001b[38;5;124msubject\u001b[39m\u001b[38;5;124m\"\u001b[39m: user,\n\u001b[0;32m   (...)\u001b[0m\n\u001b[1;32m     28\u001b[0m         \u001b[38;5;124m\"\u001b[39m\u001b[38;5;124mgesture\u001b[39m\u001b[38;5;124m\"\u001b[39m: stage,\n\u001b[1;32m     29\u001b[0m     }\n",
      "File \u001b[0;32m~/emg2pose/emg2pose/data.py:88\u001b[0m, in \u001b[0;36mEmg2PoseSessionData.__getitem__\u001b[0;34m(self, key)\u001b[0m\n\u001b[1;32m     87\u001b[0m \u001b[38;5;28;01mdef\u001b[39;00m \u001b[38;5;21m__getitem__\u001b[39m(\u001b[38;5;28mself\u001b[39m, key: \u001b[38;5;28mslice\u001b[39m) \u001b[38;5;241m-\u001b[39m\u001b[38;5;241m>\u001b[39m np\u001b[38;5;241m.\u001b[39mndarray:\n\u001b[0;32m---> 88\u001b[0m     \u001b[38;5;28;01mreturn\u001b[39;00m \u001b[38;5;28;43mself\u001b[39;49m\u001b[38;5;241;43m.\u001b[39;49m\u001b[43mtimeseries\u001b[49m\u001b[43m[\u001b[49m\u001b[43mkey\u001b[49m\u001b[43m]\u001b[49m\n",
      "File \u001b[0;32mh5py/_objects.pyx:54\u001b[0m, in \u001b[0;36mh5py._objects.with_phil.wrapper\u001b[0;34m()\u001b[0m\n",
      "File \u001b[0;32mh5py/_objects.pyx:55\u001b[0m, in \u001b[0;36mh5py._objects.with_phil.wrapper\u001b[0;34m()\u001b[0m\n",
      "File \u001b[0;32m~/miniconda3/envs/emg2pose/lib/python3.10/site-packages/h5py/_hl/dataset.py:781\u001b[0m, in \u001b[0;36mDataset.__getitem__\u001b[0;34m(self, args, new_dtype)\u001b[0m\n\u001b[1;32m    779\u001b[0m \u001b[38;5;28;01mif\u001b[39;00m new_dtype \u001b[38;5;129;01mis\u001b[39;00m \u001b[38;5;28;01mNone\u001b[39;00m:\n\u001b[1;32m    780\u001b[0m     new_dtype \u001b[38;5;241m=\u001b[39m \u001b[38;5;28mself\u001b[39m\u001b[38;5;241m.\u001b[39mdtype\n\u001b[0;32m--> 781\u001b[0m mtype \u001b[38;5;241m=\u001b[39m \u001b[43mh5t\u001b[49m\u001b[38;5;241;43m.\u001b[39;49m\u001b[43mpy_create\u001b[49m\u001b[43m(\u001b[49m\u001b[43mnew_dtype\u001b[49m\u001b[43m)\u001b[49m\n\u001b[1;32m    783\u001b[0m \u001b[38;5;66;03m# === Special-case region references ====\u001b[39;00m\n\u001b[1;32m    785\u001b[0m \u001b[38;5;28;01mif\u001b[39;00m \u001b[38;5;28mlen\u001b[39m(args) \u001b[38;5;241m==\u001b[39m \u001b[38;5;241m1\u001b[39m \u001b[38;5;129;01mand\u001b[39;00m \u001b[38;5;28misinstance\u001b[39m(args[\u001b[38;5;241m0\u001b[39m], h5r\u001b[38;5;241m.\u001b[39mRegionReference):\n",
      "\u001b[0;31mKeyboardInterrupt\u001b[0m: "
     ]
    }
   ],
   "source": [
    "all_spikes = []\n",
    "for stage in stages:\n",
    "    data = Emg2PoseSessionData(hdf5_path=stage) #one session\n",
    "    start_time = data.metadata['start']\n",
    "    stage = data.metadata['stage']\n",
    "    session = data.metadata['session']\n",
    "    user = data.metadata['user']\n",
    "    semg_data = data['emg'].T\n",
    "    for channelIdx, channel in enumerate(semg_data):\n",
    "        channel = np.abs(channel)\n",
    "        channel = stats.zscore(channel)\n",
    "        peaks, properties = find_peaks(channel, prominence=1.5, distance=50)\n",
    "        for i, peak in enumerate(peaks):\n",
    "            duration = (\n",
    "                    data.__getitem__(properties[\"right_bases\"][i])[0]\n",
    "                    - data.__getitem__(properties[\"left_bases\"][i])[0]\n",
    "                )\n",
    "            time_occur = data.__getitem__(peak)[0] - start_time\n",
    "            spike_token = {\n",
    "                \"session\": session,\n",
    "                \"subject\": user,\n",
    "                \"channel\": channelIdx,\n",
    "                \"prominence\": round(properties[\"prominences\"][i], 1),\n",
    "                \"duration\": round(duration, 2),\n",
    "                \"time\": time_occur,\n",
    "                \"gesture\": stage,\n",
    "            }\n",
    "            all_spikes.append(spike_token)\n",
    "\n",
    "with open(\"data/all_spikes.pickle\", \"wb\") as handle:\n",
    "    pickle.dump(all_spikes, handle, protocol=pickle.HIGHEST_PROTOCOL)\n",
    "\n",
    "print(all_spikes)\n",
    "print(len(all_spikes))"
   ]
  },
  {
   "cell_type": "code",
   "execution_count": 17,
   "metadata": {},
   "outputs": [
    {
     "data": {
      "text/plain": [
       "(1.67031331e+09, [ 0.31061876,  0.11868303,  0.30194053,  0.7268803 , -0.09715217,  0.2263349 ,  1.0992109 ,  0.25049138, -0.11402354,  0.4537742 ,  1.3285406 ,  0.7471447 , -0.1370091 ,  0.36557704,  1.4734045 ,  0.5566268 , -0.22202021,  0.53418183,  0.8575038 ,  0.5172031 ], [-4.2359257 , -3.3382175 , -1.9568709 , -1.0360588 , -2.2315605 , -4.4715447 , -0.86546576,  0.0530066 , -2.664678  , -9.39886   ,  0.7358716 ,  5.587689  ,  6.402373  ,  1.7616893 , -0.77591664, -1.2296437 ])"
      ]
     },
     "execution_count": 17,
     "metadata": {},
     "output_type": "execute_result"
    }
   ],
   "source": []
  },
  {
   "cell_type": "code",
   "execution_count": null,
   "metadata": {},
   "outputs": [],
   "source": []
  },
  {
   "cell_type": "code",
   "execution_count": null,
   "metadata": {},
   "outputs": [],
   "source": []
  }
 ],
 "metadata": {
  "kernelspec": {
   "display_name": "emg2pose",
   "language": "python",
   "name": "python3"
  },
  "language_info": {
   "codemirror_mode": {
    "name": "ipython",
    "version": 3
   },
   "file_extension": ".py",
   "mimetype": "text/x-python",
   "name": "python",
   "nbconvert_exporter": "python",
   "pygments_lexer": "ipython3",
   "version": "3.10.13"
  }
 },
 "nbformat": 4,
 "nbformat_minor": 4
}
